{
 "cells": [
  {
   "cell_type": "code",
   "execution_count": 4,
   "metadata": {},
   "outputs": [],
   "source": [
    "formatter = get_ipython().display_formatter.formatters['text/plain']\n",
    "formatter.for_type(int, lambda n, p, cycle: p.text(\"0x%X\" % n))\n",
    "from pwn import *"
   ]
  },
  {
   "cell_type": "code",
   "execution_count": 2,
   "metadata": {},
   "outputs": [
    {
     "name": "stdout",
     "output_type": "stream",
     "text": [
      "    /* execve(path='/bin///sh', argv=['sh'], envp=0) */\n",
      "    /* push b'/bin///sh\\x00' */\n",
      "    push 0x68\n",
      "    push 0x732f2f2f\n",
      "    push 0x6e69622f\n",
      "    mov ebx, esp\n",
      "    /* push argument array ['sh\\x00'] */\n",
      "    /* push 'sh\\x00\\x00' */\n",
      "    push 0x1010101\n",
      "    xor dword ptr [esp], 0x1016972\n",
      "    xor ecx, ecx\n",
      "    push ecx /* null terminate */\n",
      "    push 4\n",
      "    pop ecx\n",
      "    add ecx, esp\n",
      "    push ecx /* 'sh\\x00' */\n",
      "    mov ecx, esp\n",
      "    xor edx, edx\n",
      "    /* call execve() */\n",
      "    push SYS_execve /* 0xb */\n",
      "    pop eax\n",
      "    int 0x80\n",
      "\n"
     ]
    }
   ],
   "source": [
    "code = shellcraft.sh()\n",
    "print(code)"
   ]
  },
  {
   "cell_type": "code",
   "execution_count": 5,
   "metadata": {},
   "outputs": [
    {
     "data": {
      "text/plain": [
       "0x6873"
      ]
     },
     "execution_count": 5,
     "metadata": {},
     "output_type": "execute_result"
    }
   ],
   "source": [
    "0x1010101^0x1016972"
   ]
  },
  {
   "cell_type": "code",
   "execution_count": null,
   "metadata": {},
   "outputs": [],
   "source": []
  }
 ],
 "metadata": {
  "kernelspec": {
   "display_name": "Python [conda env:.conda-mytorch] *",
   "language": "python",
   "name": "conda-env-.conda-mytorch-py"
  },
  "language_info": {
   "codemirror_mode": {
    "name": "ipython",
    "version": 3
   },
   "file_extension": ".py",
   "mimetype": "text/x-python",
   "name": "python",
   "nbconvert_exporter": "python",
   "pygments_lexer": "ipython3",
   "version": "3.6.9"
  }
 },
 "nbformat": 4,
 "nbformat_minor": 2
}
