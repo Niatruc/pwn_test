{
 "cells": [
  {
   "cell_type": "code",
   "execution_count": 3,
   "metadata": {},
   "outputs": [
    {
     "data": {
      "text/plain": []
     },
     "execution_count": 3,
     "metadata": {},
     "output_type": "execute_result"
    }
   ],
   "source": [
    "#include <stdio.h>\n",
    "#include <stdlib.h>\n",
    "#include <string.h>"
   ]
  },
  {
   "cell_type": "code",
   "execution_count": 3,
   "metadata": {},
   "outputs": [
    {
     "name": "stderr",
     "output_type": "stream",
     "text": [
      "\u001b[1minput_line_5:3:27: \u001b[0m\u001b[0;1;35mwarning: \u001b[0m\u001b[1msizeof on array function parameter will return size of 'char *' instead of\n",
      "      'char []' [-Wsizeof-array-argument]\u001b[0m\n",
      "    printf(\"%d\\n\" , sizeof(c));\n",
      "\u001b[0;1;32m                          ^\n",
      "\u001b[0m\u001b[1minput_line_5:1:15: \u001b[0m\u001b[0;1;30mnote: \u001b[0mdeclared here\u001b[0m\n",
      "void fun(char c[])\n",
      "\u001b[0;1;32m              ^\n",
      "\u001b[0m\u001b[1minput_line_5:3:21: \u001b[0m\u001b[0;1;35mwarning: \u001b[0m\u001b[1mformat specifies type 'int' but the argument has type 'unsigned long' [-Wformat]\u001b[0m\n",
      "    printf(\"%d\\n\" , sizeof(c));\n",
      "\u001b[0;1;32m            ~~      ^~~~~~~~~\n",
      "\u001b[0m\u001b[0;32m            %lu\n",
      "\u001b[0m"
     ]
    },
    {
     "data": {
      "text/plain": []
     },
     "execution_count": 3,
     "metadata": {},
     "output_type": "execute_result"
    }
   ],
   "source": [
    "void fun(char c[])\n",
    "{\n",
    "    printf(\"%d\\n\" , sizeof(c));\n",
    "}"
   ]
  },
  {
   "cell_type": "code",
   "execution_count": 6,
   "metadata": {},
   "outputs": [
    {
     "name": "stderr",
     "output_type": "stream",
     "text": [
      "\u001b[1minput_line_9:3:21: \u001b[0m\u001b[0;1;35mwarning: \u001b[0m\u001b[1mformat specifies type 'int' but the argument has type 'unsigned long' [-Wformat]\u001b[0m\n",
      "    printf(\"%d\\n\" , sizeof(c));\n",
      "\u001b[0;1;32m            ~~      ^~~~~~~~~\n",
      "\u001b[0m\u001b[0;32m            %lu\n",
      "\u001b[0m"
     ]
    },
    {
     "data": {
      "text/plain": []
     },
     "execution_count": 6,
     "metadata": {},
     "output_type": "execute_result"
    }
   ],
   "source": [
    "void fun2(char &c)\n",
    "{\n",
    "    printf(\"%d\\n\" , sizeof(c));\n",
    "}"
   ]
  },
  {
   "cell_type": "code",
   "execution_count": 7,
   "metadata": {},
   "outputs": [
    {
     "name": "stderr",
     "output_type": "stream",
     "text": [
      "\u001b[1minput_line_10:3:21: \u001b[0m\u001b[0;1;35mwarning: \u001b[0m\u001b[1mformat specifies type 'int' but the argument has type 'unsigned long' [-Wformat]\u001b[0m\n",
      "    printf(\"%d\\n\" , sizeof(c));\n",
      "\u001b[0;1;32m            ~~      ^~~~~~~~~\n",
      "\u001b[0m\u001b[0;32m            %lu\n",
      "\u001b[0m"
     ]
    },
    {
     "data": {
      "text/plain": []
     },
     "execution_count": 7,
     "metadata": {},
     "output_type": "execute_result"
    }
   ],
   "source": [
    "void fun3(char(&c)[9])\n",
    "{\n",
    "    printf(\"%d\\n\" , sizeof(c));\n",
    "}"
   ]
  },
  {
   "cell_type": "code",
   "execution_count": 9,
   "metadata": {},
   "outputs": [
    {
     "name": "stderr",
     "output_type": "stream",
     "text": [
      "\u001b[1minput_line_12:3:17: \u001b[0m\u001b[0;1;35mwarning: \u001b[0m\u001b[1mformat specifies type 'int' but the argument has type 'unsigned long' [-Wformat]\u001b[0m\n",
      "printf(\"%d\\n\" , sizeof(c));//①\n",
      "\u001b[0;1;32m        ~~      ^~~~~~~~~\n",
      "\u001b[0m\u001b[0;32m        %lu\n",
      "\u001b[0m\u001b[1minput_line_12:2:7: \u001b[0m\u001b[0;1;31merror: \u001b[0m\u001b[1mredefinition of 'c'\u001b[0m\n",
      " char c[] = \"12345678\";\n",
      "\u001b[0;1;32m      ^\n",
      "\u001b[0m\u001b[1minput_line_6:2:7: \u001b[0m\u001b[0;1;30mnote: \u001b[0mprevious definition is here\u001b[0m\n",
      " char c[] = \"12345678\";\n",
      "\u001b[0;1;32m      ^\n",
      "\u001b[0m"
     ]
    },
    {
     "ename": "ename",
     "evalue": "evalue",
     "output_type": "error",
     "traceback": []
    }
   ],
   "source": [
    "char c[] = \"12345678\";\n",
    "printf(\"%d\\n\" , sizeof(c));//①\n",
    "\n",
    "fun(c);//\n",
    "fun2(*c);//\n",
    "fun3(c);// \n",
    "return 0;"
   ]
  },
  {
   "cell_type": "code",
   "execution_count": 3,
   "metadata": {},
   "outputs": [
    {
     "data": {
      "text/plain": []
     },
     "execution_count": 3,
     "metadata": {},
     "output_type": "execute_result"
    }
   ],
   "source": [
    "void GetMemory(char *p) \n",
    "{\n",
    "    p = (char *)malloc(100);\n",
    "}"
   ]
  },
  {
   "cell_type": "code",
   "execution_count": 6,
   "metadata": {},
   "outputs": [
    {
     "name": "stderr",
     "output_type": "stream",
     "text": [
      "\u001b[1minput_line_8:6:12: \u001b[0m\u001b[0;1;35mwarning: \u001b[0m\u001b[1mformat string is not a string literal (potentially insecure) [-Wformat-security]\u001b[0m\n",
      "    printf(str); \n",
      "\u001b[0;1;32m           ^~~\n",
      "\u001b[0m\u001b[1minput_line_8:6:12: \u001b[0m\u001b[0;1;30mnote: \u001b[0mtreat the string as an argument to avoid this\u001b[0m\n",
      "    printf(str); \n",
      "\u001b[0;1;32m           ^\n",
      "\u001b[0m\u001b[0;32m           \"%s\", \n",
      "\u001b[0m"
     ]
    },
    {
     "data": {
      "text/plain": []
     },
     "execution_count": 6,
     "metadata": {},
     "output_type": "execute_result"
    }
   ],
   "source": [
    "void Test(char *s) \n",
    "{ \n",
    "    char *str = NULL; \n",
    "    GetMemory(str); \n",
    "    strcpy(str, s); \n",
    "    printf(str); \n",
    "}"
   ]
  },
  {
   "cell_type": "code",
   "execution_count": 7,
   "metadata": {},
   "outputs": [
    {
     "name": "stderr",
     "output_type": "stream",
     "text": [
      "\u001b[1minput_line_9:2:7: \u001b[0m\u001b[0;1;35mwarning: \u001b[0m\u001b[1mISO C++11 does not allow conversion from string literal to 'char *'\n",
      "      [-Wwritable-strings]\u001b[0m\n",
      " Test(\"asdf\")\n",
      "\u001b[0;1;32m      ^\n",
      "\u001b[0m"
     ]
    },
    {
     "data": {
      "text/html": [
       "\u0000Caught an interpreter exception:Trying to dereference null pointer or trying to call routine taking non-null arguments\u0000"
      ]
     },
     "metadata": {},
     "output_type": "display_data"
    },
    {
     "ename": "ename",
     "evalue": "evalue",
     "output_type": "error",
     "traceback": []
    }
   ],
   "source": [
    "Test(\"asdf\")"
   ]
  },
  {
   "cell_type": "code",
   "execution_count": 6,
   "metadata": {},
   "outputs": [
    {
     "name": "stderr",
     "output_type": "stream",
     "text": [
      "\u001b[1minput_line_8:1:8: \u001b[0m\u001b[0;1;31merror: \u001b[0m\u001b[1mredefinition of 'revert_str'\u001b[0m\n",
      "char * revert_str(char *s) {\n",
      "\u001b[0;1;32m       ^\n",
      "\u001b[0m\u001b[1minput_line_7:1:8: \u001b[0m\u001b[0;1;30mnote: \u001b[0mprevious definition is here\u001b[0m\n",
      "char * revert_str(char *s) {\n",
      "\u001b[0;1;32m       ^\n",
      "\u001b[0m\u001b[1minput_line_8:3:20: \u001b[0m\u001b[0;1;35mwarning: \u001b[0m\u001b[1mformat specifies type 'int' but the argument has type 'unsigned long' [-Wformat]\u001b[0m\n",
      "    printf(\"%d\\n\", sizeof(s));\n",
      "\u001b[0;1;32m            ~~     ^~~~~~~~~\n",
      "\u001b[0m\u001b[0;32m            %lu\n",
      "\u001b[0m"
     ]
    },
    {
     "ename": "ename",
     "evalue": "evalue",
     "output_type": "error",
     "traceback": []
    }
   ],
   "source": [
    "char * revert_str(char *s) {\n",
    "    char *c = s;\n",
    "    printf(\"%d\\n\", sizeof(s));\n",
    "    return c;\n",
    "}"
   ]
  },
  {
   "cell_type": "markdown",
   "metadata": {},
   "source": [
    "# 位运算"
   ]
  },
  {
   "cell_type": "code",
   "execution_count": 21,
   "metadata": {},
   "outputs": [
    {
     "name": "stderr",
     "output_type": "stream",
     "text": [
      "\u001b[1minput_line_24:4:5: \u001b[0m\u001b[0;1;35mwarning: \u001b[0m\u001b[1moperator '<<' has lower precedence than '+'; '+' will be evaluated first\n",
      "      [-Wshift-op-parentheses]\u001b[0m\n",
      "1<<2+3;\n",
      "\u001b[0;1;32m ~~~^~\n",
      "\u001b[0m\u001b[1minput_line_24:4:5: \u001b[0m\u001b[0;1;30mnote: \u001b[0mplace parentheses around the '+' expression to silence this warning\u001b[0m\n",
      "1<<2+3;\n",
      "\u001b[0;1;32m    ^\n",
      "\u001b[0m\u001b[0;32m   (  )\n",
      "\u001b[0m"
     ]
    },
    {
     "data": {
      "text/plain": [
       "(char) '0x80'\n"
      ]
     },
     "execution_count": 21,
     "metadata": {},
     "output_type": "execute_result"
    }
   ],
   "source": [
    "(char)(127<<1) + 1;\n",
    "(char)(-1>>1) + 1;\n",
    "1<<2+3;\n",
    "(15&240);\n",
    "(char)(-128*-1);"
   ]
  },
  {
   "cell_type": "code",
   "execution_count": 1,
   "metadata": {},
   "outputs": [
    {
     "data": {
      "text/plain": []
     },
     "execution_count": 1,
     "metadata": {},
     "output_type": "execute_result"
    }
   ],
   "source": [
    "int i;\n",
    "int s = 0;"
   ]
  },
  {
   "cell_type": "code",
   "execution_count": 2,
   "metadata": {},
   "outputs": [
    {
     "data": {
      "text/plain": []
     },
     "execution_count": 2,
     "metadata": {},
     "output_type": "execute_result"
    }
   ],
   "source": [
    ".undo 0"
   ]
  },
  {
   "cell_type": "code",
   "execution_count": 3,
   "metadata": {},
   "outputs": [
    {
     "name": "stderr",
     "output_type": "stream",
     "text": [
      "\n",
      " Cling (C/C++ interpreter) meta commands usage\n",
      " All commands must be preceded by a '.', except\n",
      " for the evaluation statement { }\n",
      " ==============================================================================\n",
      " Syntax: .Command [arg0 arg1 ... argN]\n",
      "\n",
      "   .L <filename>\t\t- Load the given file or library\n",
      "\n",
      "   .(x|X) <filename>[args]\t- Same as .L and runs a function with\n",
      "\t\t\t\t  signature: ret_type filename(args)\n",
      "\n",
      "   .> <filename>\t\t- Redirect command to a given file\n",
      "      '>' or '1>'\t\t- Redirects the stdout stream only\n",
      "      '2>'\t\t\t- Redirects the stderr stream only\n",
      "      '&>' (or '2>&1')\t\t- Redirects both stdout and stderr\n",
      "      '>>'\t\t\t- Appends to the given file\n",
      "\n",
      "   .undo [n]\t\t\t- Unloads the last 'n' inputs lines\n",
      "\n",
      "   .U <filename>\t\t- Unloads the given file\n",
      "\n",
      "   .I [path]\t\t\t- Shows the include path. If a path is given -\n",
      "\t\t\t\t  adds the path to the include paths\n",
      "\n",
      "   .O <level>\t\t\t- Sets the optimization level (0-3)\n",
      "\t\t\t\t  (not yet implemented)\n",
      "\n",
      "   .class <name>\t\t- Prints out class <name> in a CINT-like style\n",
      "\n",
      "   .files \t\t\t- Prints out some CINT-like file statistics\n",
      "\n",
      "   .fileEx \t\t\t- Prints out some file statistics\n",
      "\n",
      "   .g \t\t\t\t- Prints out information about global variable\n",
      "\t\t\t\t  'name' - if no name is given, print them all\n",
      "\n",
      "   .@ \t\t\t\t- Cancels and ignores the multiline input\n",
      "\n",
      "   .rawInput [0|1]\t\t- Toggle wrapping and printing the\n",
      "\t\t\t\t  execution results of the input\n",
      "\n",
      "   .dynamicExtensions [0|1]\t- Toggles the use of the dynamic scopes and the\n",
      "\t\t\t\t  late binding\n",
      "\n",
      "   .printDebug [0|1]\t\t- Toggles the printing of input's corresponding\n",
      "\t\t\t\t  state changes\n",
      "\n",
      "   .storeState <filename>\t- Store the interpreter's state to a given file\n",
      "\n",
      "   .compareState <filename>\t- Compare the interpreter's state with the one\n",
      "\t\t\t\t  saved in a given file\n",
      "\n",
      "   .stats [name]\t\t- Show stats for internal data structures\n",
      "\t\t\t\t  'ast'  abstract syntax tree stats\n",
      "\t\t\t\t  'asttree [filter]'  abstract syntax tree layout\n",
      "\t\t\t\t  'decl' dump ast declarations\n",
      "\t\t\t\t  'undo' show undo stack\n",
      "\n",
      "   .help\t\t\t- Shows this information\n",
      "\n",
      "   .q\t\t\t\t- Exit the program\n",
      "\n"
     ]
    },
    {
     "data": {
      "text/plain": []
     },
     "execution_count": 3,
     "metadata": {},
     "output_type": "execute_result"
    }
   ],
   "source": [
    ".help"
   ]
  },
  {
   "cell_type": "code",
   "execution_count": null,
   "metadata": {},
   "outputs": [],
   "source": []
  }
 ],
 "metadata": {
  "kernelspec": {
   "display_name": "C++17",
   "language": "C++",
   "name": "cling-cpp17"
  },
  "language_info": {
   "codemirror_mode": "c++",
   "file_extension": ".c++",
   "mimetype": "text/x-c++src",
   "name": "c++"
  }
 },
 "nbformat": 4,
 "nbformat_minor": 2
}
